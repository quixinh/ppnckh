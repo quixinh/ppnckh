{
 "cells": [
  {
   "cell_type": "markdown",
   "id": "8f6bb064",
   "metadata": {},
   "source": [
    "How To Install SciPy"
   ]
  },
  {
   "cell_type": "code",
   "execution_count": 80,
   "id": "bad5a3fd",
   "metadata": {},
   "outputs": [
    {
     "name": "stdout",
     "output_type": "stream",
     "text": [
      "scipy: 1.15.2\n",
      "numpy: 2.2.4\n"
     ]
    }
   ],
   "source": [
    "# scipy\n",
    "import scipy\n",
    "print('scipy: {}'.format(scipy.__version__))\n",
    "# numpy\n",
    "import numpy\n",
    "print('numpy: {}'.format(numpy.__version__))"
   ]
  },
  {
   "cell_type": "markdown",
   "id": "16ce3e7f",
   "metadata": {},
   "source": [
    "How To Install SciPy (tiếp tục)"
   ]
  },
  {
   "cell_type": "code",
   "execution_count": 81,
   "id": "6f58975d",
   "metadata": {},
   "outputs": [
    {
     "name": "stdout",
     "output_type": "stream",
     "text": [
      "matplotlib: 3.10.1\n",
      "pandas: 2.2.3\n"
     ]
    }
   ],
   "source": [
    "# matplotlib\n",
    "import matplotlib\n",
    "print('matplotlib: {}'.format(matplotlib.__version__))\n",
    "# pandas\n",
    "import pandas\n",
    "print('pandas: {}'.format(pandas.__version__))"
   ]
  },
  {
   "cell_type": "markdown",
   "id": "43674040",
   "metadata": {},
   "source": [
    "How To Install scikit-learn"
   ]
  },
  {
   "cell_type": "code",
   "execution_count": 83,
   "id": "dbe02639",
   "metadata": {},
   "outputs": [
    {
     "name": "stdout",
     "output_type": "stream",
     "text": [
      "sklearn: 1.6.1\n"
     ]
    }
   ],
   "source": [
    "# scikit-learn\n",
    "import sklearn\n",
    "print('sklearn: {}'.format(sklearn.__version__))"
   ]
  },
  {
   "cell_type": "markdown",
   "id": "7ca52e22",
   "metadata": {},
   "source": [
    "Assignment (Strings)"
   ]
  },
  {
   "cell_type": "code",
   "execution_count": 84,
   "id": "bcd15072",
   "metadata": {},
   "outputs": [
    {
     "name": "stdout",
     "output_type": "stream",
     "text": [
      "h\n",
      "11\n",
      "hello world\n"
     ]
    }
   ],
   "source": [
    "# Strings\n",
    "data = 'hello world'\n",
    "print(data[0])\n",
    "print(len(data))\n",
    "print(data)"
   ]
  },
  {
   "cell_type": "markdown",
   "id": "8325ff86",
   "metadata": {},
   "source": [
    "Assignment (Numbers)"
   ]
  },
  {
   "cell_type": "code",
   "execution_count": 85,
   "id": "71cd48fc",
   "metadata": {},
   "outputs": [
    {
     "name": "stdout",
     "output_type": "stream",
     "text": [
      "123.1\n",
      "10\n"
     ]
    }
   ],
   "source": [
    "# Numbers\n",
    "value = 123.1\n",
    "print(value)\n",
    "value = 10\n",
    "print(value)"
   ]
  },
  {
   "cell_type": "markdown",
   "id": "9c2c25a9",
   "metadata": {},
   "source": [
    "Assignment (Boolean)"
   ]
  },
  {
   "cell_type": "code",
   "execution_count": 86,
   "id": "bb557f67",
   "metadata": {},
   "outputs": [
    {
     "name": "stdout",
     "output_type": "stream",
     "text": [
      "True False\n"
     ]
    }
   ],
   "source": [
    "# Boolean\n",
    "a = True\n",
    "b = False\n",
    "print(a, b)"
   ]
  },
  {
   "cell_type": "markdown",
   "id": "6990ceee",
   "metadata": {},
   "source": [
    "Assignment (Multiple Assignment)"
   ]
  },
  {
   "cell_type": "code",
   "execution_count": 87,
   "id": "1fe70d5e",
   "metadata": {},
   "outputs": [
    {
     "name": "stdout",
     "output_type": "stream",
     "text": [
      "1 2 3\n"
     ]
    }
   ],
   "source": [
    "# Multiple Assignment\n",
    "a, b, c = 1, 2, 3\n",
    "print(a, b, c)"
   ]
  },
  {
   "cell_type": "markdown",
   "id": "c049e04f",
   "metadata": {},
   "source": [
    "Assignment (No Value)"
   ]
  },
  {
   "cell_type": "code",
   "execution_count": 88,
   "id": "06802d58",
   "metadata": {},
   "outputs": [
    {
     "name": "stdout",
     "output_type": "stream",
     "text": [
      "None\n"
     ]
    }
   ],
   "source": [
    "# No value\n",
    "a = None\n",
    "print(a)"
   ]
  },
  {
   "cell_type": "markdown",
   "id": "236d2931",
   "metadata": {},
   "source": [
    "Flow Control (If-Then-Else Conditional)"
   ]
  },
  {
   "cell_type": "code",
   "execution_count": 89,
   "id": "17420177",
   "metadata": {},
   "outputs": [
    {
     "name": "stdout",
     "output_type": "stream",
     "text": [
      "That is fast\n"
     ]
    }
   ],
   "source": [
    "value = 99\n",
    "if value == 99:\n",
    "    print ('That is fast')\n",
    "elif value > 200:\n",
    "    print ('That is too fast')\n",
    "else:\n",
    "    print ('That is safe')"
   ]
  },
  {
   "cell_type": "markdown",
   "id": "b7f139c9",
   "metadata": {},
   "source": [
    "Flow Control (For-Loop)"
   ]
  },
  {
   "cell_type": "code",
   "execution_count": 90,
   "id": "8cec958a",
   "metadata": {},
   "outputs": [
    {
     "name": "stdout",
     "output_type": "stream",
     "text": [
      "0\n",
      "1\n",
      "2\n",
      "3\n",
      "4\n",
      "5\n",
      "6\n",
      "7\n",
      "8\n",
      "9\n"
     ]
    }
   ],
   "source": [
    "# While-Loop\n",
    "i = 0\n",
    "while i < 10:\n",
    "    print (i)\n",
    "    i += 1"
   ]
  },
  {
   "cell_type": "markdown",
   "id": "297f457b",
   "metadata": {},
   "source": [
    "Flow Control (For-Loop)"
   ]
  },
  {
   "cell_type": "code",
   "execution_count": null,
   "id": "fcfd4ed8",
   "metadata": {},
   "outputs": [],
   "source": [
    "# For-Loop\n",
    "for i in range(10):\n",
    "    print (i)"
   ]
  },
  {
   "cell_type": "markdown",
   "id": "760e8286",
   "metadata": {},
   "source": [
    "Flow Control (For-Loop)"
   ]
  },
  {
   "cell_type": "code",
   "execution_count": 91,
   "id": "5df6bc7b",
   "metadata": {},
   "outputs": [
    {
     "name": "stdout",
     "output_type": "stream",
     "text": [
      "(1, 2, 3)\n"
     ]
    }
   ],
   "source": [
    "a = (1, 2, 3)\n",
    "print (a)"
   ]
  },
  {
   "cell_type": "markdown",
   "id": "b3658997",
   "metadata": {},
   "source": [
    "Data Structures (List)"
   ]
  },
  {
   "cell_type": "code",
   "execution_count": 92,
   "id": "fd75a5d5",
   "metadata": {},
   "outputs": [
    {
     "name": "stdout",
     "output_type": "stream",
     "text": [
      "Zeroth Value: 1\n",
      "List Length: 4\n",
      "1\n",
      "2\n",
      "3\n",
      "4\n"
     ]
    }
   ],
   "source": [
    "mylist = [1, 2, 3]\n",
    "print(\"Zeroth Value: %d\" % mylist[0])\n",
    "mylist.append(4)\n",
    "print(\"List Length: %d\" % len(mylist))\n",
    "for value in mylist:\n",
    "    print (value)"
   ]
  },
  {
   "cell_type": "markdown",
   "id": "5c35283e",
   "metadata": {},
   "source": [
    "Data Structures (Dictionary)"
   ]
  },
  {
   "cell_type": "code",
   "execution_count": 93,
   "id": "bc389c54",
   "metadata": {},
   "outputs": [
    {
     "name": "stdout",
     "output_type": "stream",
     "text": [
      "A value: 1\n",
      "A value: 11\n",
      "Keys: dict_keys(['a', 'b', 'c'])\n",
      "Values: dict_values([11, 2, 3])\n",
      "11\n",
      "2\n",
      "3\n"
     ]
    }
   ],
   "source": [
    "mydict = {'a': 1, 'b': 2, 'c': 3}\n",
    "print(\"A value: %d\" % mydict['a'])\n",
    "mydict['a'] = 11\n",
    "print(\"A value: %d\" % mydict['a'])\n",
    "print(\"Keys: %s\" % mydict.keys())\n",
    "print(\"Values: %s\" % mydict.values())\n",
    "for key in mydict.keys():\n",
    "    print (mydict[key])"
   ]
  },
  {
   "cell_type": "markdown",
   "id": "2922087b",
   "metadata": {},
   "source": [
    "Functions"
   ]
  },
  {
   "cell_type": "code",
   "execution_count": 94,
   "id": "bc312c70",
   "metadata": {},
   "outputs": [
    {
     "name": "stdout",
     "output_type": "stream",
     "text": [
      "4\n"
     ]
    }
   ],
   "source": [
    "# Sum function\n",
    "def mysum(x, y):\n",
    "    return x + y\n",
    "# Test sum function\n",
    "result = mysum(1, 3)\n",
    "print(result)"
   ]
  },
  {
   "cell_type": "markdown",
   "id": "d0948364",
   "metadata": {},
   "source": [
    "Create Array"
   ]
  },
  {
   "cell_type": "code",
   "execution_count": 95,
   "id": "5c017dd3",
   "metadata": {},
   "outputs": [
    {
     "name": "stdout",
     "output_type": "stream",
     "text": [
      "[1 2 3]\n",
      "(3,)\n"
     ]
    }
   ],
   "source": [
    "# define an array\n",
    "import numpy\n",
    "mylist = [1, 2, 3]\n",
    "myarray = numpy.array(mylist)\n",
    "print(myarray)\n",
    "print(myarray.shape)"
   ]
  },
  {
   "cell_type": "markdown",
   "id": "226d0bd3",
   "metadata": {},
   "source": [
    "Access Data"
   ]
  },
  {
   "cell_type": "code",
   "execution_count": 96,
   "id": "12fd04c9",
   "metadata": {},
   "outputs": [
    {
     "name": "stdout",
     "output_type": "stream",
     "text": [
      "[[1 2 3]\n",
      " [3 4 5]]\n",
      "(2, 3)\n",
      "First row: [1 2 3]\n",
      "Last row: [3 4 5]\n",
      "Specific row and col: 3\n",
      "Whole col: [3 5]\n"
     ]
    }
   ],
   "source": [
    "# access values\n",
    "import numpy\n",
    "mylist = [[1, 2, 3], [3, 4, 5]]\n",
    "myarray = numpy.array(mylist)\n",
    "print(myarray)\n",
    "print(myarray.shape)\n",
    "print(\"First row: %s\" % myarray[0])\n",
    "print(\"Last row: %s\" % myarray[-1])\n",
    "print(\"Specific row and col: %s\" % myarray[0, 2])\n",
    "print(\"Whole col: %s\" % myarray[:, 2])"
   ]
  },
  {
   "cell_type": "markdown",
   "id": "b9a9df5b",
   "metadata": {},
   "source": [
    "Arithmetic"
   ]
  },
  {
   "cell_type": "code",
   "execution_count": 97,
   "id": "b60f2b75",
   "metadata": {},
   "outputs": [
    {
     "name": "stdout",
     "output_type": "stream",
     "text": [
      "Addition: [5 5 5]\n",
      "Multiplication: [6 6 6]\n"
     ]
    }
   ],
   "source": [
    "# arithmetic\n",
    "import numpy\n",
    "myarray1 = numpy.array([2, 2, 2])\n",
    "myarray2 = numpy.array([3, 3, 3])\n",
    "print(\"Addition: %s\" % (myarray1 + myarray2))\n",
    "print(\"Multiplication: %s\" % (myarray1 * myarray2))"
   ]
  },
  {
   "cell_type": "markdown",
   "id": "45902517",
   "metadata": {},
   "source": [
    "Line Plot"
   ]
  },
  {
   "cell_type": "code",
   "execution_count": 98,
   "id": "1bf23f76",
   "metadata": {},
   "outputs": [
    {
     "data": {
      "image/png": "[encoded data removed]",
      "text/plain": [
       "<Figure size 640x480 with 1 Axes>"
      ]
     },
     "metadata": {},
     "output_type": "display_data"
    }
   ],
   "source": [
    "# basic line plot\n",
    "import matplotlib.pyplot as plt\n",
    "import numpy\n",
    "myarray = numpy.array([1, 2, 3])\n",
    "plt.plot(myarray)\n",
    "plt.xlabel('some x axis')\n",
    "plt.ylabel('some y axis')\n",
    "plt.show()"
   ]
  },
  {
   "cell_type": "markdown",
   "id": "4ae6ddf1",
   "metadata": {},
   "source": [
    "Scatter Plot"
   ]
  },
  {
   "cell_type": "code",
   "execution_count": 99,
   "id": "34bdce53",
   "metadata": {},
   "outputs": [
    {
     "data": {
      "image/png": "[encoded data removed]",
      "text/plain": [
       "<Figure size 640x480 with 1 Axes>"
      ]
     },
     "metadata": {},
     "output_type": "display_data"
    }
   ],
   "source": [
    "# basic scatter plot\n",
    "import matplotlib.pyplot as plt\n",
    "import numpy\n",
    "x = numpy.array([1, 2, 3])\n",
    "y = numpy.array([2, 4, 6])\n",
    "plt.scatter(x, y)\n",
    "plt.xlabel('some x axis')\n",
    "plt.ylabel('some y axis')\n",
    "plt.show()"
   ]
  },
  {
   "cell_type": "markdown",
   "id": "8d4ac955",
   "metadata": {},
   "source": [
    "Series"
   ]
  },
  {
   "cell_type": "code",
   "execution_count": 100,
   "id": "e8e54d8c",
   "metadata": {},
   "outputs": [
    {
     "name": "stdout",
     "output_type": "stream",
     "text": [
      "a    1\n",
      "b    2\n",
      "c    3\n",
      "dtype: int64\n"
     ]
    }
   ],
   "source": [
    "# series\n",
    "import numpy\n",
    "import pandas\n",
    "myarray = numpy.array([1, 2, 3])\n",
    "rownames = ['a', 'b', 'c']\n",
    "myseries = pandas.Series(myarray, index=rownames)\n",
    "print(myseries)"
   ]
  },
  {
   "cell_type": "markdown",
   "id": "15528aa2",
   "metadata": {},
   "source": [
    "Series (Access Data)"
   ]
  },
  {
   "cell_type": "code",
   "execution_count": 101,
   "id": "cefa2002",
   "metadata": {},
   "outputs": [
    {
     "name": "stdout",
     "output_type": "stream",
     "text": [
      "1\n",
      "1\n"
     ]
    },
    {
     "name": "stderr",
     "output_type": "stream",
     "text": [
      "C:\\Users\\QUIN\\AppData\\Local\\Temp\\ipykernel_42896\\1741991443.py:1: FutureWarning: Series.__getitem__ treating keys as positions is deprecated. In a future version, integer keys will always be treated as labels (consistent with DataFrame behavior). To access a value by position, use `ser.iloc[pos]`\n",
      "  print(myseries[0])\n"
     ]
    }
   ],
   "source": [
    "print(myseries[0])\n",
    "print(myseries['a'])"
   ]
  },
  {
   "cell_type": "markdown",
   "id": "40ff5f96",
   "metadata": {},
   "source": [
    "DataFrame (Access Data)"
   ]
  },
  {
   "cell_type": "code",
   "execution_count": 102,
   "id": "1d19c215",
   "metadata": {},
   "outputs": [
    {
     "name": "stdout",
     "output_type": "stream",
     "text": [
      "   one  two  three\n",
      "a    1    2      3\n",
      "b    4    5      6\n"
     ]
    }
   ],
   "source": [
    "# dataframe\n",
    "import numpy\n",
    "import pandas\n",
    "myarray = numpy.array([[1, 2, 3], [4, 5, 6]])\n",
    "rownames = ['a', 'b']\n",
    "colnames = ['one', 'two', 'three']\n",
    "mydataframe = pandas.DataFrame(myarray, index=rownames, columns=colnames)\n",
    "print(mydataframe)"
   ]
  },
  {
   "cell_type": "code",
   "execution_count": 103,
   "id": "84055b8d",
   "metadata": {},
   "outputs": [
    {
     "name": "stdout",
     "output_type": "stream",
     "text": [
      "method 1:\n",
      "one column: a    1\n",
      "b    4\n",
      "Name: one, dtype: int64\n",
      "method 2:\n",
      "one column: a    1\n",
      "b    4\n",
      "Name: one, dtype: int64\n"
     ]
    }
   ],
   "source": [
    "print(\"method 1:\")\n",
    "print(\"one column: %s\" % mydataframe['one'])\n",
    "print(\"method 2:\")\n",
    "print(\"one column: %s\" % mydataframe.one)"
   ]
  },
  {
   "cell_type": "markdown",
   "id": "c191ed61",
   "metadata": {},
   "source": [
    "Load CSV Files with the Python Standard Library"
   ]
  },
  {
   "cell_type": "code",
   "execution_count": 104,
   "id": "2d619a24",
   "metadata": {},
   "outputs": [
    {
     "name": "stdout",
     "output_type": "stream",
     "text": [
      "(768, 9)\n"
     ]
    }
   ],
   "source": [
    "# Load CSV Using Python Standard Library\n",
    "import csv\n",
    "import numpy\n",
    "\n",
    "filename = \"diabetes.csv\"\n",
    "with open(filename, \"r\") as raw_data:\n",
    "    reader = csv.reader(raw_data, delimiter=',', quoting=csv.QUOTE_NONE)\n",
    "    next(reader)  # Bỏ qua dòng tiêu đề\n",
    "    x = list(reader)\n",
    "\n",
    "data = numpy.array(x).astype('float')\n",
    "print(data.shape)\n"
   ]
  },
  {
   "cell_type": "markdown",
   "id": "3fe66a27",
   "metadata": {},
   "source": [
    "Load CSV Files with NumPy"
   ]
  },
  {
   "cell_type": "code",
   "execution_count": 105,
   "id": "b8241539",
   "metadata": {},
   "outputs": [
    {
     "name": "stdout",
     "output_type": "stream",
     "text": [
      "(768, 9)\n"
     ]
    }
   ],
   "source": [
    "# Load CSV using NumPy\n",
    "import numpy as np\n",
    "filename = 'diabetes.csv'\n",
    "data = np.loadtxt(filename, delimiter=',',skiprows=1)\n",
    "print(data.shape)"
   ]
  },
  {
   "cell_type": "code",
   "execution_count": 106,
   "id": "e35e58cb",
   "metadata": {},
   "outputs": [],
   "source": [
    "# # Load CSV using Pandas from URL\n",
    "# from pandas import read_csv\n",
    "# url = 'https://goo.gl/vhm1eU'\n",
    "# names = ['preg', 'plas', 'pres', 'skin', 'test', 'mass', 'pedi', 'age', 'class']\n",
    "# data = read_csv(url, names=names)\n",
    "# print(data.shape)"
   ]
  },
  {
   "cell_type": "code",
   "execution_count": null,
   "id": "a4b1c43e",
   "metadata": {},
   "outputs": [],
   "source": []
  }
 ],
 "metadata": {
  "kernelspec": {
   "display_name": "PPNKCH",
   "language": "python",
   "name": "python3"
  },
  "language_info": {
   "codemirror_mode": {
    "name": "ipython",
    "version": 3
   },
   "file_extension": ".py",
   "mimetype": "text/x-python",
   "name": "python",
   "nbconvert_exporter": "python",
   "pygments_lexer": "ipython3",
   "version": "3.10.16"
  }
 },
 "nbformat": 4,
 "nbformat_minor": 5
}
